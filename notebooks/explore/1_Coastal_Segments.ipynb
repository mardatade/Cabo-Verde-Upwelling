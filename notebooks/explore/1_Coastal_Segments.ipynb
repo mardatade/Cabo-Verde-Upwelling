{
 "cells": [
  {
   "cell_type": "markdown",
   "id": "4e4dd6c7-0df6-4859-98ad-bd73a6bad084",
   "metadata": {},
   "source": [
    "1. This code receives KML points generated in Google Earth software and converts them into a dataframe.\n",
    "2. It calculates the distance between the points to ensure they are created correctly.\n",
    "3. It saves the paired points that represent the coastlines."
   ]
  },
  {
   "cell_type": "markdown",
   "id": "91193db8-5c45-4366-a970-386a83ae38d0",
   "metadata": {},
   "source": [
    "## Import Modules"
   ]
  },
  {
   "cell_type": "code",
   "execution_count": null,
   "id": "c7065aab-a4e2-4f94-ad1b-7e0ee5c7bdd1",
   "metadata": {},
   "outputs": [],
   "source": [
    "import geopandas as gpd\n",
    "from shapely import Point, LineString\n",
    "import fiona\n",
    "from fiona.drvsupport import supported_drivers\n",
    "import pandas as pd\n",
    "import numpy as np\n",
    "supported_drivers['LIBKML'] = 'rw'"
   ]
  },
  {
   "cell_type": "markdown",
   "id": "6ac5417d-cabb-433c-8346-0e5ac7d2ecbc",
   "metadata": {},
   "source": [
    "### KML to DF"
   ]
  },
  {
   "cell_type": "code",
   "execution_count": null,
   "id": "aa817d87-927b-4e97-a497-017b781a9056",
   "metadata": {},
   "outputs": [],
   "source": [
    "# Read the KML file and convert them to dataframe\n",
    "def kml_to_points(kml_filename):\n",
    "    gdf = gpd.read_file(kml_filename)\n",
    "    points = (gdf.set_index('Name').geometry\n",
    "        .apply(lambda x: list(x.coords))\n",
    "        .explode(ignore_index=False)\n",
    "        .apply(pd.Series)\n",
    "        .reset_index()\n",
    "        .rename(columns={0: 'longitude', 1: 'latitude'}))\n",
    "    return gdf, points"
   ]
  },
  {
   "cell_type": "code",
   "execution_count": null,
   "id": "d2d8ded9-a61f-4478-b468-28198e616995",
   "metadata": {},
   "outputs": [],
   "source": [
    "kml_filename='data/kml/mes_island.kml'\n",
    "_, points_island = kml_to_points(kml_filename)"
   ]
  },
  {
   "cell_type": "code",
   "execution_count": null,
   "id": "133804d6-a861-4f50-a3e2-fefe905aa6fb",
   "metadata": {},
   "outputs": [],
   "source": [
    "kml_filename='data/kml/Near_Coast.kml'\n",
    "_, points_coast = kml_to_points(kml_filename)"
   ]
  },
  {
   "cell_type": "markdown",
   "id": "f140c35a-2a4c-4b8a-b8fb-c5e12407857e",
   "metadata": {},
   "source": [
    "## Compute distance and choose the right points."
   ]
  },
  {
   "cell_type": "code",
   "execution_count": null,
   "id": "a24062d1-ed67-4610-8e93-fd41c8f51652",
   "metadata": {},
   "outputs": [],
   "source": [
    "# island\n",
    "points_island = points_island.drop([6,7,17]).reset_index().drop(columns=['index'])"
   ]
  },
  {
   "cell_type": "code",
   "execution_count": null,
   "id": "4ffb2687-b0d6-4a86-9e3c-ad58361a826f",
   "metadata": {},
   "outputs": [],
   "source": [
    "# island\n",
    "points_coast = points_coast.drop([10]).reset_index().drop(columns=['index'])"
   ]
  },
  {
   "cell_type": "code",
   "execution_count": null,
   "id": "331240ca-a057-49f6-8cc9-27c610d58fc2",
   "metadata": {},
   "outputs": [],
   "source": [
    "points_coast_south = points_coast.loc[:11].reset_index()\n",
    "points_coast_north = points_coast.loc[12:].reset_index()"
   ]
  },
  {
   "cell_type": "code",
   "execution_count": null,
   "id": "734534eb-fedd-4744-a71b-47ce00a11bc0",
   "metadata": {},
   "outputs": [],
   "source": [
    "for i in range(len(points_island)-1):\n",
    "    dist = np.sqrt((points_island.loc[i].longitude - points_island.loc[i+1].longitude)**2 + (points_island.loc[i].latitude - points_island.loc[i+1].latitude)**2)\n",
    "    print(i,dist)"
   ]
  },
  {
   "cell_type": "code",
   "execution_count": null,
   "id": "1cf76c7f-cdd3-47e7-adb3-f23f1a369eec",
   "metadata": {},
   "outputs": [],
   "source": [
    "for i in range(len(points_coast_south)-1):\n",
    "    dist = np.sqrt((points_coast_south.loc[i].longitude - points_coast_south.loc[i+1].longitude)**2 + (points_coast_south.loc[i].latitude - points_coast_south.loc[i+1].latitude)**2)\n",
    "    print(i,dist)"
   ]
  },
  {
   "cell_type": "code",
   "execution_count": null,
   "id": "38fd2b1d-254d-4d84-b447-f10f0cb239d4",
   "metadata": {},
   "outputs": [],
   "source": [
    "for i in range(len(points_coast_north)-1):\n",
    "    dist = np.sqrt((points_coast_north.loc[i].longitude - points_coast_north.loc[i+1].longitude)**2 + (points_coast_north.loc[i].latitude - points_coast_north.loc[i+1].latitude)**2)\n",
    "    print(i,dist)"
   ]
  },
  {
   "cell_type": "code",
   "execution_count": null,
   "id": "b6d5733f-e74c-4368-bb2e-946ded823412",
   "metadata": {},
   "outputs": [],
   "source": [
    "# Save KML files to DF\n",
    "points_island.to_csv('data/csv/points_island.csv')\n",
    "points_coast_south.to_csv('data/csv/points_coast_south.csv')\n",
    "points_coast_north.to_csv('data/csv/points_coast_north.csv')"
   ]
  },
  {
   "cell_type": "markdown",
   "id": "0590b18a-3ea3-46e4-ab26-93d97269e6bd",
   "metadata": {},
   "source": [
    "## Create the pairs"
   ]
  },
  {
   "cell_type": "code",
   "execution_count": null,
   "id": "5cebfa23-029e-4d54-9533-9d7de4d2e949",
   "metadata": {},
   "outputs": [],
   "source": [
    "point_df = pd.DataFrame(columns=['name','lat_A','lon_A','lat_B','lon_B'])\n",
    "\n",
    "for i in range(len(points_island)-1):\n",
    "    point_df.loc[len(point_df)] = [f'{np.round(points_island.loc[i].latitude,3)}_{np.round(points_island.loc[i].longitude,3)}',\n",
    "                       np.round(points_island.loc[i].latitude,3),\n",
    "                       np.round(points_island.loc[i].longitude,3),\n",
    "                       np.round(points_island.loc[i+1].latitude,3),\n",
    "                       np.round(points_island.loc[i+1].longitude,3)]\n",
    "point_df"
   ]
  },
  {
   "cell_type": "code",
   "execution_count": null,
   "id": "1b75a41e-01b1-4606-ba6f-bbe7851f7bb1",
   "metadata": {},
   "outputs": [],
   "source": [
    "for i in range(len(points_coast_south)-1):\n",
    "    point_df.loc[len(point_df)] = [f'{np.round(points_coast_south.loc[i].latitude,3)}_{np.round(points_coast_south.loc[i].longitude,3)}',\n",
    "                       np.round(points_coast_south.loc[i].latitude,3),\n",
    "                       np.round(points_coast_south.loc[i].longitude,3),\n",
    "                       np.round(points_coast_south.loc[i+1].latitude,3),\n",
    "                       np.round(points_coast_south.loc[i+1].longitude,3)]\n",
    "point_df"
   ]
  },
  {
   "cell_type": "code",
   "execution_count": null,
   "id": "eff8269c-1477-4297-9254-0d0a9033e355",
   "metadata": {},
   "outputs": [],
   "source": [
    "for i in range(len(points_coast_north)-1):\n",
    "    point_df.loc[len(point_df)] = [f'{np.round(points_coast_north.loc[i].latitude,3)}_{np.round(points_coast_north.loc[i].longitude,3)}',\n",
    "                       np.round(points_coast_north.loc[i].latitude,3),\n",
    "                       np.round(points_coast_north.loc[i].longitude,3),\n",
    "                       np.round(points_coast_north.loc[i+1].latitude,3),\n",
    "                       np.round(points_coast_north.loc[i+1].longitude,3)]\n",
    "point_df"
   ]
  },
  {
   "cell_type": "markdown",
   "id": "d504b98e-17e4-460c-a536-bb7d5bcbcbac",
   "metadata": {},
   "source": [
    "## Save the dataframe"
   ]
  },
  {
   "cell_type": "code",
   "execution_count": null,
   "id": "8f0cbde8-199f-4b5e-8b81-225a057f0c97",
   "metadata": {},
   "outputs": [],
   "source": [
    "# some points needed to be removes as they where out of the considered region.\n",
    "point_df = point_df.loc[0:33]"
   ]
  },
  {
   "cell_type": "code",
   "execution_count": null,
   "id": "305dede0-3872-4624-b3f7-1d1d6ff909e7",
   "metadata": {},
   "outputs": [],
   "source": [
    "point_df.to_csv('data/csv/merged_points.csv')"
   ]
  }
 ],
 "metadata": {
  "kernelspec": {
   "display_name": "Python 3 (ipykernel)",
   "language": "python",
   "name": "python3"
  },
  "language_info": {
   "codemirror_mode": {
    "name": "ipython",
    "version": 3
   },
   "file_extension": ".py",
   "mimetype": "text/x-python",
   "name": "python",
   "nbconvert_exporter": "python",
   "pygments_lexer": "ipython3",
   "version": "3.11.6"
  }
 },
 "nbformat": 4,
 "nbformat_minor": 5
}
